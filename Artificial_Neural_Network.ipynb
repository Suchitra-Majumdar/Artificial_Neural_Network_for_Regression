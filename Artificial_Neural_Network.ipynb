{
 "cells": [
  {
   "cell_type": "markdown",
   "metadata": {
    "id": "3cbb7fRy-eyr"
   },
   "source": [
    "# Artificial Neural Network"
   ]
  },
  {
   "cell_type": "markdown",
   "metadata": {
    "id": "8sNDnxE2-pwE"
   },
   "source": [
    "### Importing the libraries"
   ]
  },
  {
   "cell_type": "code",
   "execution_count": null,
   "metadata": {
    "id": "lxChR1Rk-umf"
   },
   "outputs": [],
   "source": [
    "import numpy as np\n",
    "import pandas as pd\n",
    "import tensorflow as tf"
   ]
  },
  {
   "cell_type": "code",
   "execution_count": 1,
   "metadata": {},
   "outputs": [],
   "source": [
    "import numpy as np\n",
    "import pandas as pd\n",
    "import tensorflow as tf"
   ]
  },
  {
   "cell_type": "code",
   "execution_count": 2,
   "metadata": {},
   "outputs": [
    {
     "data": {
      "text/plain": [
       "'2.4.0'"
      ]
     },
     "execution_count": 2,
     "metadata": {},
     "output_type": "execute_result"
    }
   ],
   "source": [
    "tf.__version__"
   ]
  },
  {
   "cell_type": "code",
   "execution_count": null,
   "metadata": {
    "colab": {
     "base_uri": "https://localhost:8080/",
     "height": 34
    },
    "id": "uBTqR3nacj0e",
    "outputId": "4c0bd183-e424-429a-9fba-ceb841c06888"
   },
   "outputs": [
    {
     "data": {
      "text/plain": [
       "'2.2.0-rc2'"
      ]
     },
     "execution_count": 2,
     "metadata": {
      "tags": []
     },
     "output_type": "execute_result"
    }
   ],
   "source": [
    "tf.__version__"
   ]
  },
  {
   "cell_type": "markdown",
   "metadata": {
    "id": "AG3FQEch-yuA"
   },
   "source": [
    "## Part 1 - Data Preprocessing"
   ]
  },
  {
   "cell_type": "markdown",
   "metadata": {
    "id": "-4zq8Mza_D9O"
   },
   "source": [
    "### Importing the dataset"
   ]
  },
  {
   "cell_type": "code",
   "execution_count": 4,
   "metadata": {},
   "outputs": [],
   "source": [
    "dataset = pd.read_excel(\"Dataset/Folds5x2_pp.xlsx\")\n",
    "X = dataset.iloc[:,:-1].values\n",
    "y = dataset.iloc[:,-1].values"
   ]
  },
  {
   "cell_type": "markdown",
   "metadata": {
    "id": "VC6omXel_Up0"
   },
   "source": [
    "### Splitting the dataset into the Training set and Test set"
   ]
  },
  {
   "cell_type": "code",
   "execution_count": 6,
   "metadata": {},
   "outputs": [],
   "source": [
    "from sklearn.model_selection import train_test_split\n",
    "X_train,X_test,y_train,y_test = train_test_split(X,y,test_size=0.2,random_state=0)"
   ]
  },
  {
   "cell_type": "markdown",
   "metadata": {
    "id": "_mSLlAT9_eyI"
   },
   "source": [
    "## Part 2 - Building the ANN"
   ]
  },
  {
   "cell_type": "markdown",
   "metadata": {
    "id": "CsBULd_f_wLY"
   },
   "source": [
    "### Initializing the ANN"
   ]
  },
  {
   "cell_type": "code",
   "execution_count": 20,
   "metadata": {},
   "outputs": [],
   "source": [
    "ann = tf.keras.models.Sequential()"
   ]
  },
  {
   "cell_type": "markdown",
   "metadata": {
    "id": "iitAFJS_ABUn"
   },
   "source": [
    "### Adding the input layer and the first hidden layer"
   ]
  },
  {
   "cell_type": "code",
   "execution_count": 21,
   "metadata": {},
   "outputs": [],
   "source": [
    "ann.add(tf.keras.layers.Dense(units=6,activation='relu'))"
   ]
  },
  {
   "cell_type": "markdown",
   "metadata": {
    "id": "-lb4kK_wAKbs"
   },
   "source": [
    "### Adding the second hidden layer"
   ]
  },
  {
   "cell_type": "code",
   "execution_count": 22,
   "metadata": {
    "id": "c2357OqEAQOQ"
   },
   "outputs": [],
   "source": [
    "ann.add(tf.keras.layers.Dense(units=6, activation='relu'))"
   ]
  },
  {
   "cell_type": "markdown",
   "metadata": {
    "id": "jwMOmKb3AdBY"
   },
   "source": [
    "### Adding the output layer"
   ]
  },
  {
   "cell_type": "code",
   "execution_count": 23,
   "metadata": {},
   "outputs": [],
   "source": [
    "ann.add(tf.keras.layers.Dense(units=1))"
   ]
  },
  {
   "cell_type": "markdown",
   "metadata": {
    "id": "fq7e4fF6A1yy"
   },
   "source": [
    "## Part 3 - Training the ANN"
   ]
  },
  {
   "cell_type": "markdown",
   "metadata": {
    "id": "qDeylAs2An25"
   },
   "source": [
    "### Compiling the ANN"
   ]
  },
  {
   "cell_type": "code",
   "execution_count": 24,
   "metadata": {},
   "outputs": [],
   "source": [
    "ann.compile(optimizer='adam',loss='mean_squared_error')"
   ]
  },
  {
   "cell_type": "markdown",
   "metadata": {
    "id": "YjVuiybYOo7r"
   },
   "source": [
    "### Training the ANN model on the Training set"
   ]
  },
  {
   "cell_type": "code",
   "execution_count": 25,
   "metadata": {},
   "outputs": [
    {
     "name": "stdout",
     "output_type": "stream",
     "text": [
      "Epoch 1/100\n",
      "240/240 [==============================] - 2s 3ms/step - loss: 161460.9550\n",
      "Epoch 2/100\n",
      "240/240 [==============================] - 1s 4ms/step - loss: 640.6898\n",
      "Epoch 3/100\n",
      "240/240 [==============================] - 1s 3ms/step - loss: 471.5330\n",
      "Epoch 4/100\n",
      "240/240 [==============================] - 1s 4ms/step - loss: 455.8663\n",
      "Epoch 5/100\n",
      "240/240 [==============================] - 1s 3ms/step - loss: 428.7507\n",
      "Epoch 6/100\n",
      "240/240 [==============================] - 1s 4ms/step - loss: 410.3537\n",
      "Epoch 7/100\n",
      "240/240 [==============================] - 1s 4ms/step - loss: 390.0983\n",
      "Epoch 8/100\n",
      "240/240 [==============================] - 1s 4ms/step - loss: 368.1463\n",
      "Epoch 9/100\n",
      "240/240 [==============================] - 1s 4ms/step - loss: 330.7620\n",
      "Epoch 10/100\n",
      "240/240 [==============================] - 1s 3ms/step - loss: 302.4548\n",
      "Epoch 11/100\n",
      "240/240 [==============================] - 1s 3ms/step - loss: 283.2484\n",
      "Epoch 12/100\n",
      "240/240 [==============================] - 1s 3ms/step - loss: 250.6968\n",
      "Epoch 13/100\n",
      "240/240 [==============================] - 1s 3ms/step - loss: 221.6455\n",
      "Epoch 14/100\n",
      "240/240 [==============================] - 1s 3ms/step - loss: 192.3799\n",
      "Epoch 15/100\n",
      "240/240 [==============================] - 1s 3ms/step - loss: 165.0735\n",
      "Epoch 16/100\n",
      "240/240 [==============================] - 1s 3ms/step - loss: 137.5616\n",
      "Epoch 17/100\n",
      "240/240 [==============================] - 1s 3ms/step - loss: 122.1354\n",
      "Epoch 18/100\n",
      "240/240 [==============================] - 1s 3ms/step - loss: 101.3812\n",
      "Epoch 19/100\n",
      "240/240 [==============================] - 1s 3ms/step - loss: 82.9979\n",
      "Epoch 20/100\n",
      "240/240 [==============================] - 1s 4ms/step - loss: 68.5903\n",
      "Epoch 21/100\n",
      "240/240 [==============================] - 1s 4ms/step - loss: 55.7259\n",
      "Epoch 22/100\n",
      "240/240 [==============================] - 1s 4ms/step - loss: 50.6878\n",
      "Epoch 23/100\n",
      "240/240 [==============================] - 1s 3ms/step - loss: 40.4470\n",
      "Epoch 24/100\n",
      "240/240 [==============================] - 1s 3ms/step - loss: 37.5611\n",
      "Epoch 25/100\n",
      "240/240 [==============================] - 1s 3ms/step - loss: 34.1571\n",
      "Epoch 26/100\n",
      "240/240 [==============================] - 1s 3ms/step - loss: 33.2793\n",
      "Epoch 27/100\n",
      "240/240 [==============================] - 1s 3ms/step - loss: 31.5026\n",
      "Epoch 28/100\n",
      "240/240 [==============================] - 1s 3ms/step - loss: 32.2317\n",
      "Epoch 29/100\n",
      "240/240 [==============================] - 1s 3ms/step - loss: 30.3660\n",
      "Epoch 30/100\n",
      "240/240 [==============================] - 1s 3ms/step - loss: 29.9958\n",
      "Epoch 31/100\n",
      "240/240 [==============================] - 1s 3ms/step - loss: 29.8924\n",
      "Epoch 32/100\n",
      "240/240 [==============================] - 1s 3ms/step - loss: 29.0047\n",
      "Epoch 33/100\n",
      "240/240 [==============================] - 1s 2ms/step - loss: 29.5071\n",
      "Epoch 34/100\n",
      "240/240 [==============================] - 1s 2ms/step - loss: 29.3526\n",
      "Epoch 35/100\n",
      "240/240 [==============================] - 1s 2ms/step - loss: 30.0660\n",
      "Epoch 36/100\n",
      "240/240 [==============================] - 1s 2ms/step - loss: 28.8193\n",
      "Epoch 37/100\n",
      "240/240 [==============================] - 1s 2ms/step - loss: 29.4652\n",
      "Epoch 38/100\n",
      "240/240 [==============================] - 1s 2ms/step - loss: 28.2231\n",
      "Epoch 39/100\n",
      "240/240 [==============================] - 1s 2ms/step - loss: 28.9949\n",
      "Epoch 40/100\n",
      "240/240 [==============================] - 1s 2ms/step - loss: 28.9500\n",
      "Epoch 41/100\n",
      "240/240 [==============================] - 1s 2ms/step - loss: 28.4411\n",
      "Epoch 42/100\n",
      "240/240 [==============================] - 1s 2ms/step - loss: 29.2287\n",
      "Epoch 43/100\n",
      "240/240 [==============================] - 1s 2ms/step - loss: 29.1209\n",
      "Epoch 44/100\n",
      "240/240 [==============================] - 1s 2ms/step - loss: 26.1868\n",
      "Epoch 45/100\n",
      "240/240 [==============================] - 1s 2ms/step - loss: 27.3751\n",
      "Epoch 46/100\n",
      "240/240 [==============================] - 1s 2ms/step - loss: 27.1805\n",
      "Epoch 47/100\n",
      "240/240 [==============================] - 1s 2ms/step - loss: 27.4459\n",
      "Epoch 48/100\n",
      "240/240 [==============================] - 1s 2ms/step - loss: 27.5769\n",
      "Epoch 49/100\n",
      "240/240 [==============================] - 1s 2ms/step - loss: 26.6609\n",
      "Epoch 50/100\n",
      "240/240 [==============================] - 1s 2ms/step - loss: 26.5712\n",
      "Epoch 51/100\n",
      "240/240 [==============================] - 1s 2ms/step - loss: 26.9909\n",
      "Epoch 52/100\n",
      "240/240 [==============================] - 1s 4ms/step - loss: 27.9199\n",
      "Epoch 53/100\n",
      "240/240 [==============================] - 1s 4ms/step - loss: 28.1914\n",
      "Epoch 54/100\n",
      "240/240 [==============================] - 1s 4ms/step - loss: 26.5530\n",
      "Epoch 55/100\n",
      "240/240 [==============================] - 1s 4ms/step - loss: 26.4418\n",
      "Epoch 56/100\n",
      "240/240 [==============================] - 1s 4ms/step - loss: 26.7887\n",
      "Epoch 57/100\n",
      "240/240 [==============================] - 1s 4ms/step - loss: 25.6477\n",
      "Epoch 58/100\n",
      "240/240 [==============================] - 1s 4ms/step - loss: 27.1423\n",
      "Epoch 59/100\n",
      "240/240 [==============================] - 1s 4ms/step - loss: 26.3600\n",
      "Epoch 60/100\n",
      "240/240 [==============================] - 1s 3ms/step - loss: 27.0695\n",
      "Epoch 61/100\n",
      "240/240 [==============================] - 1s 4ms/step - loss: 26.6292\n",
      "Epoch 62/100\n",
      "240/240 [==============================] - 1s 4ms/step - loss: 26.4502\n",
      "Epoch 63/100\n",
      "240/240 [==============================] - 1s 4ms/step - loss: 26.4542\n",
      "Epoch 64/100\n",
      "240/240 [==============================] - 1s 4ms/step - loss: 26.9233\n",
      "Epoch 65/100\n",
      "240/240 [==============================] - 1s 4ms/step - loss: 28.0572\n",
      "Epoch 66/100\n",
      "240/240 [==============================] - 1s 4ms/step - loss: 26.4524\n",
      "Epoch 67/100\n",
      "240/240 [==============================] - 1s 4ms/step - loss: 25.3041\n",
      "Epoch 68/100\n",
      "240/240 [==============================] - 1s 4ms/step - loss: 30.1129\n",
      "Epoch 69/100\n",
      "240/240 [==============================] - 1s 4ms/step - loss: 27.4838\n",
      "Epoch 70/100\n",
      "240/240 [==============================] - 1s 4ms/step - loss: 27.0010\n",
      "Epoch 71/100\n",
      "240/240 [==============================] - 1s 4ms/step - loss: 27.2998\n",
      "Epoch 72/100\n",
      "240/240 [==============================] - 1s 4ms/step - loss: 25.8808\n",
      "Epoch 73/100\n",
      "240/240 [==============================] - 1s 4ms/step - loss: 26.0420\n",
      "Epoch 74/100\n",
      "240/240 [==============================] - 1s 4ms/step - loss: 27.0404\n",
      "Epoch 75/100\n",
      "240/240 [==============================] - 1s 4ms/step - loss: 27.0177\n",
      "Epoch 76/100\n",
      "240/240 [==============================] - 1s 4ms/step - loss: 27.7135\n",
      "Epoch 77/100\n",
      "240/240 [==============================] - 1s 4ms/step - loss: 26.4730\n",
      "Epoch 78/100\n",
      "240/240 [==============================] - 1s 4ms/step - loss: 26.5237\n",
      "Epoch 79/100\n",
      "240/240 [==============================] - 1s 4ms/step - loss: 25.9400\n",
      "Epoch 80/100\n",
      "240/240 [==============================] - 1s 4ms/step - loss: 25.9452\n",
      "Epoch 81/100\n",
      "240/240 [==============================] - 1s 4ms/step - loss: 27.7263\n",
      "Epoch 82/100\n",
      "240/240 [==============================] - 1s 4ms/step - loss: 27.2241\n",
      "Epoch 83/100\n",
      "240/240 [==============================] - 1s 4ms/step - loss: 27.7135:  - ETA: 0s - loss: 27.\n",
      "Epoch 84/100\n",
      "240/240 [==============================] - 1s 4ms/step - loss: 27.0006\n",
      "Epoch 85/100\n",
      "240/240 [==============================] - 1s 4ms/step - loss: 26.0876\n",
      "Epoch 86/100\n",
      "240/240 [==============================] - 1s 4ms/step - loss: 27.0254\n",
      "Epoch 87/100\n",
      "240/240 [==============================] - 1s 4ms/step - loss: 27.4381\n",
      "Epoch 88/100\n",
      "240/240 [==============================] - 1s 4ms/step - loss: 26.8503\n",
      "Epoch 89/100\n",
      "240/240 [==============================] - 1s 4ms/step - loss: 26.7633\n",
      "Epoch 90/100\n",
      "240/240 [==============================] - 1s 4ms/step - loss: 27.7444\n",
      "Epoch 91/100\n",
      "240/240 [==============================] - 1s 3ms/step - loss: 25.7727\n",
      "Epoch 92/100\n",
      "240/240 [==============================] - 1s 4ms/step - loss: 26.9219\n",
      "Epoch 93/100\n",
      "240/240 [==============================] - 1s 2ms/step - loss: 27.5331\n",
      "Epoch 94/100\n",
      "240/240 [==============================] - 1s 2ms/step - loss: 25.5492\n",
      "Epoch 95/100\n",
      "240/240 [==============================] - 1s 2ms/step - loss: 26.7306\n",
      "Epoch 96/100\n",
      "240/240 [==============================] - 1s 2ms/step - loss: 27.2809\n",
      "Epoch 97/100\n",
      "240/240 [==============================] - 1s 3ms/step - loss: 27.1454\n",
      "Epoch 98/100\n"
     ]
    },
    {
     "name": "stdout",
     "output_type": "stream",
     "text": [
      "240/240 [==============================] - 1s 2ms/step - loss: 26.5287\n",
      "Epoch 99/100\n",
      "240/240 [==============================] - 1s 3ms/step - loss: 27.5348\n",
      "Epoch 100/100\n",
      "240/240 [==============================] - 1s 3ms/step - loss: 26.1146\n"
     ]
    },
    {
     "data": {
      "text/plain": [
       "<tensorflow.python.keras.callbacks.History at 0x1497776e190>"
      ]
     },
     "execution_count": 25,
     "metadata": {},
     "output_type": "execute_result"
    }
   ],
   "source": [
    "ann.fit(X_train,y_train,batch_size=32,epochs=100)"
   ]
  },
  {
   "cell_type": "markdown",
   "metadata": {
    "id": "0H0zKKNEBLD5"
   },
   "source": [
    "### Predicting the results of the Test set"
   ]
  },
  {
   "cell_type": "code",
   "execution_count": 27,
   "metadata": {},
   "outputs": [
    {
     "name": "stdout",
     "output_type": "stream",
     "text": [
      "[[431.91 431.23]\n",
      " [462.94 460.01]\n",
      " [466.45 461.14]\n",
      " ...\n",
      " [473.63 473.26]\n",
      " [440.51 438.  ]\n",
      " [459.66 463.28]]\n"
     ]
    }
   ],
   "source": [
    "y_pred = ann.predict(X_test)\n",
    "np.set_printoptions(precision=2)\n",
    "print(np.concatenate([y_pred.reshape(len(y_pred),1),y_test.reshape(len(y_test),1)],axis=1))"
   ]
  }
 ],
 "metadata": {
  "colab": {
   "collapsed_sections": [],
   "name": "Artificial Neural Network",
   "provenance": [],
   "toc_visible": true
  },
  "kernelspec": {
   "display_name": "Python 3",
   "language": "python",
   "name": "python3"
  },
  "language_info": {
   "codemirror_mode": {
    "name": "ipython",
    "version": 3
   },
   "file_extension": ".py",
   "mimetype": "text/x-python",
   "name": "python",
   "nbconvert_exporter": "python",
   "pygments_lexer": "ipython3",
   "version": "3.8.5"
  }
 },
 "nbformat": 4,
 "nbformat_minor": 1
}
